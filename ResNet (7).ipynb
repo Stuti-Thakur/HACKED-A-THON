{
  "cells": [
    {
      "cell_type": "code",
      "execution_count": 1,
      "metadata": {
        "id": "Y2QbBbM4sy1j"
      },
      "outputs": [],
      "source": [
        "import os\n",
        "import cv2\n",
        "import numpy as np\n",
        "from sklearn.model_selection import train_test_split\n",
        "from tensorflow.keras.applications import ResNet50\n",
        "from tensorflow.keras.layers import GlobalAveragePooling2D, Dense\n",
        "from tensorflow.keras.models import Model\n",
        "from tensorflow.keras.optimizers import Adam\n",
        "from tensorflow.keras.callbacks import EarlyStopping, ModelCheckpoint"
      ]
    },
    {
      "cell_type": "code",
      "source": [
        "from google.colab import drive\n",
        "drive.mount('/content/drive')"
      ],
      "metadata": {
        "colab": {
          "base_uri": "https://localhost:8080/"
        },
        "id": "wzB2249bburd",
        "outputId": "f8708bbc-f89f-4768-f9e6-f7b7c2d3bf73"
      },
      "execution_count": 3,
      "outputs": [
        {
          "output_type": "stream",
          "name": "stdout",
          "text": [
            "Mounted at /content/drive\n"
          ]
        }
      ]
    },
    {
      "cell_type": "code",
      "execution_count": 4,
      "metadata": {
        "id": "DfPYxKZntAcq"
      },
      "outputs": [],
      "source": [
        "# Define constants\n",
        "im_size = 224\n",
        "batch_size = 16\n",
        "epochs = 10\n",
        "dataset_path = '/content/drive/MyDrive/Plant_Directory/Dataset'"
      ]
    },
    {
      "cell_type": "code",
      "execution_count": 8,
      "metadata": {
        "colab": {
          "base_uri": "https://localhost:8080/"
        },
        "id": "EJN3agw4tO09",
        "outputId": "58f850cf-10de-4eab-cb9f-7360b202e9be"
      },
      "outputs": [
        {
          "output_type": "stream",
          "name": "stdout",
          "text": [
            "Class names: ['peach_bacterial', 'peach_healthy']\n"
          ]
        }
      ],
      "source": [
        "# Load and preprocess data\n",
        "class_names = ['peach_bacterial', 'peach_healthy']\n",
        "print('Class names:', class_names)\n",
        "images = []\n",
        "labels = []\n",
        "\n",
        "for i, class_name in enumerate(class_names):\n",
        "    data_path = os.path.join(dataset_path, class_name)\n",
        "    filenames = os.listdir(data_path)\n",
        "\n",
        "    for filename in filenames:\n",
        "        img = cv2.imread(os.path.join(data_path, filename))\n",
        "        img = cv2.resize(img, (im_size, im_size))\n",
        "        images.append(img)\n",
        "        labels.append(i)\n",
        "\n",
        "images = np.array(images)\n",
        "labels = np.array(labels)\n",
        "labels = labels.reshape(-1, 1)\n",
        "images = images.astype('float32') / 255.0\n"
      ]
    },
    {
      "cell_type": "code",
      "source": [
        "# Split data into train and test sets\n",
        "train_x, test_x, train_y, test_y = train_test_split(images, labels, test_size=0.2, random_state=200)"
      ],
      "metadata": {
        "id": "Hz8SjisIaLG6"
      },
      "execution_count": 9,
      "outputs": []
    },
    {
      "cell_type": "code",
      "source": [
        "# Create ResNet-50 model\n",
        "base_model = ResNet50(input_shape=(im_size, im_size, 3), include_top=False, weights='imagenet')\n",
        "x = base_model.output\n",
        "x = GlobalAveragePooling2D()(x)\n",
        "predictions = Dense(1, activation='sigmoid')(x)\n",
        "model = Model(inputs=base_model.input, outputs=predictions)"
      ],
      "metadata": {
        "colab": {
          "base_uri": "https://localhost:8080/"
        },
        "id": "BNmIE1XNaRxp",
        "outputId": "a24e0e27-e3e5-4179-a6ce-364fba481ca8"
      },
      "execution_count": 10,
      "outputs": [
        {
          "output_type": "stream",
          "name": "stdout",
          "text": [
            "Downloading data from https://storage.googleapis.com/tensorflow/keras-applications/resnet/resnet50_weights_tf_dim_ordering_tf_kernels_notop.h5\n",
            "94765736/94765736 [==============================] - 0s 0us/step\n"
          ]
        }
      ]
    },
    {
      "cell_type": "code",
      "source": [
        "# Compile the model\n",
        "model.compile(optimizer=Adam(lr=0.0001), loss='binary_crossentropy', metrics=['accuracy'])"
      ],
      "metadata": {
        "colab": {
          "base_uri": "https://localhost:8080/"
        },
        "id": "FqWmrBv-ap4L",
        "outputId": "52c721d1-c50f-43ef-89f2-5ec24a8873f2"
      },
      "execution_count": 11,
      "outputs": [
        {
          "output_type": "stream",
          "name": "stderr",
          "text": [
            "WARNING:absl:`lr` is deprecated in Keras optimizer, please use `learning_rate` or use the legacy optimizer, e.g.,tf.keras.optimizers.legacy.Adam.\n"
          ]
        }
      ]
    },
    {
      "cell_type": "code",
      "source": [
        "# Define callbacks\n",
        "early_stopping = EarlyStopping(monitor='val_loss', patience=5, restore_best_weights=True)\n",
        "model_checkpoint = ModelCheckpoint('binary_classifier.h5', save_best_only=True)"
      ],
      "metadata": {
        "id": "5-WqavmDawi0"
      },
      "execution_count": 12,
      "outputs": []
    },
    {
      "cell_type": "code",
      "source": [
        "# Train the model\n",
        "history = model.fit(train_x, train_y, validation_data=(test_x, test_y), batch_size=batch_size, epochs=epochs, callbacks=[early_stopping, model_checkpoint])"
      ],
      "metadata": {
        "colab": {
          "base_uri": "https://localhost:8080/"
        },
        "id": "inFaL-l4a4aR",
        "outputId": "eaeda8a4-110f-4320-8df7-886eae65ab26"
      },
      "execution_count": 13,
      "outputs": [
        {
          "output_type": "stream",
          "name": "stdout",
          "text": [
            "Epoch 1/20\n",
            "191/191 [==============================] - 110s 289ms/step - loss: 0.1340 - accuracy: 0.9639 - val_loss: 0.6933 - val_accuracy: 0.4541\n",
            "Epoch 2/20\n",
            "191/191 [==============================] - 35s 184ms/step - loss: 0.0735 - accuracy: 0.9790 - val_loss: 2.4909 - val_accuracy: 0.5459\n",
            "Epoch 3/20\n",
            "191/191 [==============================] - 36s 189ms/step - loss: 0.0383 - accuracy: 0.9849 - val_loss: 0.9020 - val_accuracy: 0.5787\n",
            "Epoch 4/20\n",
            "191/191 [==============================] - 36s 187ms/step - loss: 0.0360 - accuracy: 0.9905 - val_loss: 0.8769 - val_accuracy: 0.5472\n",
            "Epoch 5/20\n",
            "191/191 [==============================] - 57s 298ms/step - loss: 0.0092 - accuracy: 0.9970 - val_loss: 0.5872 - val_accuracy: 0.7310\n",
            "Epoch 6/20\n",
            "191/191 [==============================] - 36s 190ms/step - loss: 0.0122 - accuracy: 0.9970 - val_loss: 2.3368 - val_accuracy: 0.6063\n",
            "Epoch 7/20\n",
            "191/191 [==============================] - 62s 325ms/step - loss: 0.1426 - accuracy: 0.9642 - val_loss: 0.2439 - val_accuracy: 0.9029\n",
            "Epoch 8/20\n",
            "191/191 [==============================] - 67s 352ms/step - loss: 0.0694 - accuracy: 0.9773 - val_loss: 0.0135 - val_accuracy: 1.0000\n",
            "Epoch 9/20\n",
            "191/191 [==============================] - 36s 189ms/step - loss: 0.0302 - accuracy: 0.9921 - val_loss: 0.0228 - val_accuracy: 0.9934\n",
            "Epoch 10/20\n",
            "191/191 [==============================] - 36s 187ms/step - loss: 0.0166 - accuracy: 0.9947 - val_loss: 0.0162 - val_accuracy: 0.9934\n",
            "Epoch 11/20\n",
            "191/191 [==============================] - 36s 186ms/step - loss: 0.0151 - accuracy: 0.9964 - val_loss: 0.0142 - val_accuracy: 0.9921\n",
            "Epoch 12/20\n",
            "191/191 [==============================] - 36s 187ms/step - loss: 0.0161 - accuracy: 0.9947 - val_loss: 0.0331 - val_accuracy: 0.9921\n",
            "Epoch 13/20\n",
            "191/191 [==============================] - 36s 188ms/step - loss: 0.0186 - accuracy: 0.9951 - val_loss: 0.0964 - val_accuracy: 0.9685\n"
          ]
        }
      ]
    },
    {
      "cell_type": "code",
      "source": [
        "# Evaluate the model on test data\n",
        "loss, accuracy = model.evaluate(test_x, test_y, batch_size=batch_size)\n",
        "print(\"Test Loss:\", loss)\n",
        "print(\"Test Accuracy:\", accuracy)"
      ],
      "metadata": {
        "colab": {
          "base_uri": "https://localhost:8080/"
        },
        "id": "4lAfLGt3bFMe",
        "outputId": "b63d14d5-02ce-42d6-cd91-2836dcd3a669"
      },
      "execution_count": 14,
      "outputs": [
        {
          "output_type": "stream",
          "name": "stdout",
          "text": [
            "48/48 [==============================] - 3s 54ms/step - loss: 0.0135 - accuracy: 1.0000\n",
            "Test Loss: 0.013546171598136425\n",
            "Test Accuracy: 1.0\n"
          ]
        }
      ]
    },
    {
      "cell_type": "code",
      "source": [
        "# Make predictions on new data\n",
        "def preprocess_image(img):\n",
        "    img = cv2.resize(img, (im_size, im_size))\n",
        "    img = img.astype('float32') / 255.0\n",
        "    img = np.expand_dims(img, axis=0)\n",
        "    return img"
      ],
      "metadata": {
        "id": "WT1ik1QBbMLJ"
      },
      "execution_count": 15,
      "outputs": []
    },
    {
      "cell_type": "code",
      "source": [
        "# Example usage to predict on a new image\n",
        "new_image_path = '/content/drive/MyDrive/Plant_Directory/Dataset/peach_bacterial/00130039-8425-42e9-9dd9-15aead7271ff___Rut._Bact.S 3421.JPG'\n",
        "new_image = cv2.imread(new_image_path)\n",
        "preprocessed_img = preprocess_image(new_image)\n",
        "prediction = model.predict(preprocessed_img)\n",
        "\n",
        "class_names = ['Bacterial Spot', 'Healthy']\n",
        "predicted_class = class_names[int(prediction[0][0] > 0.5)]\n",
        "\n",
        "print(f\"Predicted Class: {predicted_class}\")\n"
      ],
      "metadata": {
        "colab": {
          "base_uri": "https://localhost:8080/"
        },
        "id": "O9KkJP3pbNP5",
        "outputId": "4221744c-8ced-476f-8263-ce546c80fe78"
      },
      "execution_count": 18,
      "outputs": [
        {
          "output_type": "stream",
          "name": "stdout",
          "text": [
            "1/1 [==============================] - 0s 30ms/step\n",
            "Predicted Class: Bacterial Spot\n"
          ]
        }
      ]
    },
    {
      "cell_type": "code",
      "source": [
        "model.save('/content/drive/MyDrive/binary_classifier_model.h5')"
      ],
      "metadata": {
        "id": "C2NfrjgJho28"
      },
      "execution_count": 19,
      "outputs": []
    },
    {
      "cell_type": "code",
      "source": [],
      "metadata": {
        "id": "fwBVSWdwizuC"
      },
      "execution_count": null,
      "outputs": []
    }
  ],
  "metadata": {
    "accelerator": "GPU",
    "colab": {
      "provenance": []
    },
    "kernelspec": {
      "display_name": "Python 3",
      "name": "python3"
    },
    "language_info": {
      "name": "python"
    }
  },
  "nbformat": 4,
  "nbformat_minor": 0
}